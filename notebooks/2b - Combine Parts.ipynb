{
 "cells": [
  {
   "cell_type": "code",
   "execution_count": 98,
   "id": "difficult-stockholm",
   "metadata": {},
   "outputs": [],
   "source": [
    "import os\n",
    "import pandas as pd"
   ]
  },
  {
   "cell_type": "code",
   "execution_count": 99,
   "id": "generous-keeping",
   "metadata": {},
   "outputs": [],
   "source": [
    "# Setup\n",
    "BASE_DIR = os.getcwd()\n",
    "DATA_DIR = os.path.join(BASE_DIR, 'Data')\n",
    "TEMP_DIR = os.path.join(BASE_DIR, 'Temp')\n",
    "a = os.path.join(TEMP_DIR, '')   # <-- one part\n",
    "b = os.path.join(TEMP_DIR, '')   # <-- other part\n",
    "parts = [a, b]"
   ]
  },
  {
   "cell_type": "code",
   "execution_count": 102,
   "id": "convenient-intake",
   "metadata": {},
   "outputs": [],
   "source": [
    "def combine_and_clean_data(data):\n",
    "    \"\"\"Combine a number of files in the same year.\"\"\"\n",
    "    combined = pd.concat(data)\n",
    "    \n",
    "    # Create keys and values for a dictionary\n",
    "    genres = combined.Genre.unique().tolist()\n",
    "    vals = [combined.loc[combined.Genre == genre].iloc[:, 1].sum() for genre in genres]\n",
    "    \n",
    "    # Create list of dictionaries\n",
    "    year = combined.columns[1]\n",
    "    temp = []\n",
    "    for (genre, val) in zip(genres, vals):\n",
    "        data = {\n",
    "            'Genre': genre,\n",
    "            year: val\n",
    "        }\n",
    "        temp.append(data)\n",
    "\n",
    "    df = pd.DataFrame(temp)\n",
    "    csv_path = os.path.join(DATA_DIR, f'{df.columns[1]}.csv')\n",
    "    df.to_csv(csv_path)\n",
    "    return df"
   ]
  }
 ],
 "metadata": {
  "kernelspec": {
   "display_name": "Python 3",
   "language": "python",
   "name": "python3"
  },
  "language_info": {
   "codemirror_mode": {
    "name": "ipython",
    "version": 3
   },
   "file_extension": ".py",
   "mimetype": "text/x-python",
   "name": "python",
   "nbconvert_exporter": "python",
   "pygments_lexer": "ipython3",
   "version": "3.9.2"
  }
 },
 "nbformat": 4,
 "nbformat_minor": 5
}
